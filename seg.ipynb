{
  "cells": [
    {
      "cell_type": "code",
      "execution_count": 2,
      "metadata": {
        "colab": {
          "base_uri": "https://localhost:8080/"
        },
        "id": "fCjKNZaGc8Cl",
        "outputId": "808a372c-b706-4a84-f03d-24478cc13d3e"
      },
      "outputs": [
        {
          "output_type": "stream",
          "name": "stdout",
          "text": [
            "Mounted at /content/gdrive\n"
          ]
        }
      ],
      "source": [
        "from google.colab import drive\n",
        "drive.mount('/content/gdrive', force_remount=False)"
      ]
    },
    {
      "cell_type": "code",
      "source": [
        "import torch\n",
        "device = torch.cuda.is_available()\n",
        "print(device)"
      ],
      "metadata": {
        "colab": {
          "base_uri": "https://localhost:8080/"
        },
        "id": "k6mQFRq3EcuO",
        "outputId": "6062274c-38fe-4c6d-c9a4-1f5f6f600fe6"
      },
      "execution_count": 1,
      "outputs": [
        {
          "output_type": "stream",
          "name": "stdout",
          "text": [
            "True\n"
          ]
        }
      ]
    },
    {
      "cell_type": "code",
      "execution_count": null,
      "metadata": {
        "colab": {
          "base_uri": "https://localhost:8080/"
        },
        "id": "70ymWw2yghsV",
        "outputId": "b062f3b9-25b8-4a22-ae4e-d9b7517f1572"
      },
      "outputs": [
        {
          "output_type": "stream",
          "name": "stdout",
          "text": [
            "/content\n"
          ]
        }
      ],
      "source": [
        "!pwd"
      ]
    },
    {
      "cell_type": "code",
      "execution_count": 3,
      "metadata": {
        "colab": {
          "base_uri": "https://localhost:8080/"
        },
        "id": "8zaqVBaydETV",
        "outputId": "7d6f4560-db5a-4cd2-cdf6-dcab85a5fd49"
      },
      "outputs": [
        {
          "output_type": "stream",
          "name": "stdout",
          "text": [
            "/content/gdrive/MyDrive/Colab Notebooks\n"
          ]
        }
      ],
      "source": [
        "cd gdrive/MyDrive/Colab\\ Notebooks"
      ]
    },
    {
      "cell_type": "code",
      "execution_count": 4,
      "metadata": {
        "id": "TnWoZNZqd8nA"
      },
      "outputs": [],
      "source": [
        "import torch\n",
        "import torch.nn as nn\n",
        "import numpy as np\n",
        "import pandas as pd\n",
        "import matplotlib.pyplot as plt\n",
        "import torchvision\n",
        "from torchvision import datasets,transforms\n",
        "from tqdm import tqdm\n",
        "import cv2\n",
        "from torch.utils.data import Dataset,DataLoader\n",
        "import torch.optim as optim\n",
        "from PIL import Image\n",
        "import torchvision.transforms as transforms\n",
        "import os\n",
        "import torch.nn.functional as F"
      ]
    },
    {
      "cell_type": "code",
      "execution_count": null,
      "metadata": {
        "id": "7cKso0HeeAER"
      },
      "outputs": [],
      "source": [
        "# import zipfile\n",
        "# # 'test.zip'\n",
        "# dirs = ['train.zip','train_masks.zip']\n",
        "# for x in dirs:\n",
        "#     with zipfile.ZipFile(\"UNet/\"+ x,'r') as z:\n",
        "#         z.extractall(\".\")\n"
      ]
    },
    {
      "cell_type": "code",
      "execution_count": 5,
      "metadata": {
        "id": "Bqesnf0-eIy5",
        "colab": {
          "base_uri": "https://localhost:8080/"
        },
        "outputId": "5f50f7a2-b6f2-40ba-bd6f-8245fef406f2"
      },
      "outputs": [
        {
          "output_type": "stream",
          "name": "stdout",
          "text": [
            "'Copy of cs725.ipynb'\t\t\t\t\t\t train\n",
            " seg.ipynb\t\t\t\t\t\t\t train_masks\n",
            " SentimentClassification\t\t\t\t\t UNet\n",
            " Sentiment_Classification_and_Word_Embeddings_generation.ipynb\n"
          ]
        }
      ],
      "source": [
        "!ls"
      ]
    },
    {
      "cell_type": "code",
      "execution_count": 6,
      "metadata": {
        "id": "tOUMViQ2eTbh",
        "colab": {
          "base_uri": "https://localhost:8080/"
        },
        "outputId": "9e08e004-1d81-42eb-e7d1-5c5f74af1756"
      },
      "outputs": [
        {
          "output_type": "stream",
          "name": "stdout",
          "text": [
            "cuda\n"
          ]
        }
      ],
      "source": [
        "# config\n",
        "LEARNING_RATE = 1e-4\n",
        "SPLIT=0.3\n",
        "DEVICE = \"cuda\" if torch.cuda.is_available() else \"cpu\"\n",
        "print(DEVICE)\n",
        "BATCH_SIZE = 4\n",
        "EPOCHS = 1\n",
        "NUM_WORKERS = 4\n",
        "IMAGE_HEIGHT = 572\n",
        "IMAGE_WIDTH = 572\n",
        "PIN_MEMORY = True\n",
        "DATAPATH = \"\"\n",
        "TRAIN_IMG_DIR = './train'\n",
        "TRAIN_MASK_DIR = './train_masks'"
      ]
    },
    {
      "cell_type": "code",
      "execution_count": 7,
      "metadata": {
        "id": "P7kzE-Cjeiso"
      },
      "outputs": [],
      "source": [
        "import torch\n",
        "import torch.nn as nn\n",
        "\n",
        "\n",
        "def double_conv(in_c, out_c):\n",
        "    conv = nn.Sequential(\n",
        "        nn.Conv2d(in_c, out_c, kernel_size=3, stride=1, padding=1),\n",
        "        nn.BatchNorm2d(out_c),\n",
        "        nn.ReLU(inplace=True),\n",
        "        nn.Conv2d(out_c, out_c, kernel_size=3, stride=1, padding=1),\n",
        "        nn.BatchNorm2d(out_c),\n",
        "        nn.ReLU(inplace=True)\n",
        "    )\n",
        "    return conv.to(DEVICE)\n",
        "\n",
        "def addPadding(srcShapeTensor, tensor_whose_shape_isTobechanged):\n",
        "\n",
        "    if(srcShapeTensor.shape != tensor_whose_shape_isTobechanged.shape):\n",
        "        target = torch.zeros(srcShapeTensor.shape)\n",
        "        target[:, :, :tensor_whose_shape_isTobechanged.shape[2],\n",
        "               :tensor_whose_shape_isTobechanged.shape[3]] = tensor_whose_shape_isTobechanged\n",
        "        return target.to(DEVICE)\n",
        "    return tensor_whose_shape_isTobechanged.to(DEVICE)"
      ]
    },
    {
      "cell_type": "code",
      "execution_count": 8,
      "metadata": {
        "id": "87PcwFHyennx"
      },
      "outputs": [],
      "source": [
        "#UNet Model\n",
        "class UNet(nn.Module):\n",
        "    def __init__(self):\n",
        "        super(UNet, self).__init__()\n",
        "        self.max_pool_2x2 = nn.MaxPool2d(kernel_size=2, stride=2)\n",
        "        self.down_conv_1 = double_conv(3, 64)\n",
        "        self.down_conv_2 = double_conv(64, 128)\n",
        "        self.down_conv_3 = double_conv(128, 256)\n",
        "        self.down_conv_4 = double_conv(256, 512)\n",
        "        self.down_conv_5 = double_conv(512, 1024)\n",
        "\n",
        "        self.up_trans_1 = nn.ConvTranspose2d(\n",
        "            in_channels=1024,\n",
        "            out_channels=512,\n",
        "            kernel_size=2,\n",
        "            stride=2\n",
        "        )\n",
        "        self.up_conv_1 = double_conv(1024, 512)\n",
        "        self.up_trans_2 = nn.ConvTranspose2d(\n",
        "            in_channels=512,\n",
        "            out_channels=256,\n",
        "            kernel_size=2,\n",
        "            stride=2\n",
        "        )\n",
        "        self.up_conv_2 = double_conv(512, 256)\n",
        "\n",
        "        self.up_trans_3 = nn.ConvTranspose2d(\n",
        "            in_channels=256,\n",
        "            out_channels=128,\n",
        "            kernel_size=2,\n",
        "            stride=2)        \n",
        "        self.up_conv_3 = double_conv(256, 128)\n",
        "\n",
        "        self.up_trans_4 = nn.ConvTranspose2d(\n",
        "            in_channels=128,\n",
        "            out_channels=64,\n",
        "            kernel_size=2,\n",
        "            stride=2\n",
        "        )\n",
        "        self.up_conv_4 = double_conv(128, 64)\n",
        "\n",
        "        self.out = nn.Conv2d(\n",
        "            in_channels=64,\n",
        "            out_channels=1,\n",
        "            kernel_size=1\n",
        "        )\n",
        "\n",
        "    def forward(self, image):\n",
        "        # expected size\n",
        "        # encoder (Normal convolutions decrease the size)\n",
        "        x1 = self.down_conv_1(image)\n",
        "        # print(\"x1 \"+str(x1.shape))\n",
        "        x2 = self.max_pool_2x2(x1)\n",
        "        # print(\"x2 \"+str(x2.shape))\n",
        "        x3 = self.down_conv_2(x2)\n",
        "        # print(\"x3 \"+str(x3.shape))\n",
        "        x4 = self.max_pool_2x2(x3)\n",
        "        # print(\"x4 \"+str(x4.shape))\n",
        "        x5 = self.down_conv_3(x4)\n",
        "        # print(\"x5 \"+str(x5.shape))\n",
        "        x6 = self.max_pool_2x2(x5)\n",
        "        # print(\"x6 \"+str(x6.shape))\n",
        "        x7 = self.down_conv_4(x6)\n",
        "        # print(\"x7 \"+str(x7.shape))\n",
        "        x8 = self.max_pool_2x2(x7)\n",
        "        # print(\"x8 \"+str(x8.shape))\n",
        "        x9 = self.down_conv_5(x8)\n",
        "        # print(\"x9 \"+str(x9.shape))\n",
        "\n",
        "        # decoder (transposed convolutions increase the size)\n",
        "        x = self.up_trans_1(x9)\n",
        "        x = addPadding(x7, x)\n",
        "        x = self.up_conv_1(torch.cat([x7, x], 1))\n",
        "\n",
        "        x = self.up_trans_2(x)\n",
        "        x = addPadding(x5, x)\n",
        "        x = self.up_conv_2(torch.cat([x5, x], 1))\n",
        "\n",
        "        x = self.up_trans_3(x)\n",
        "        x = addPadding(x3, x)\n",
        "        x = self.up_conv_3(torch.cat([x3, x], 1))\n",
        "\n",
        "        x = self.up_trans_4(x)\n",
        "        x = addPadding(x1, x)\n",
        "        x = self.up_conv_4(torch.cat([x1, x], 1))\n",
        "\n",
        "        x = self.out(x)\n",
        "        # print(x.shape)\n",
        "        return x.to(DEVICE)\n"
      ]
    },
    {
      "cell_type": "code",
      "execution_count": 9,
      "metadata": {
        "id": "s2T_W9nfeuK_",
        "colab": {
          "base_uri": "https://localhost:8080/"
        },
        "outputId": "cb92ddfa-7318-4e4b-feed-648b6d8efa17"
      },
      "outputs": [
        {
          "output_type": "stream",
          "name": "stdout",
          "text": [
            "torch.Size([3, 3, 28, 28])\n"
          ]
        }
      ],
      "source": [
        "image = torch.rand((3, 3, 28, 28))\n",
        "image = image.to(DEVICE)\n",
        "model = UNet().to(DEVICE)\n",
        "print(image.shape)\n",
        "pred = model(image)"
      ]
    },
    {
      "cell_type": "code",
      "execution_count": 10,
      "metadata": {
        "id": "BfOU_GxKe3Ep",
        "colab": {
          "base_uri": "https://localhost:8080/"
        },
        "outputId": "2221eba1-2bc2-4e07-c8b2-8413573c2871"
      },
      "outputs": [
        {
          "output_type": "stream",
          "name": "stdout",
          "text": [
            "torch.Size([3, 1, 28, 28])\n",
            "UNet(\n",
            "  (max_pool_2x2): MaxPool2d(kernel_size=2, stride=2, padding=0, dilation=1, ceil_mode=False)\n",
            "  (down_conv_1): Sequential(\n",
            "    (0): Conv2d(3, 64, kernel_size=(3, 3), stride=(1, 1), padding=(1, 1))\n",
            "    (1): BatchNorm2d(64, eps=1e-05, momentum=0.1, affine=True, track_running_stats=True)\n",
            "    (2): ReLU(inplace=True)\n",
            "    (3): Conv2d(64, 64, kernel_size=(3, 3), stride=(1, 1), padding=(1, 1))\n",
            "    (4): BatchNorm2d(64, eps=1e-05, momentum=0.1, affine=True, track_running_stats=True)\n",
            "    (5): ReLU(inplace=True)\n",
            "  )\n",
            "  (down_conv_2): Sequential(\n",
            "    (0): Conv2d(64, 128, kernel_size=(3, 3), stride=(1, 1), padding=(1, 1))\n",
            "    (1): BatchNorm2d(128, eps=1e-05, momentum=0.1, affine=True, track_running_stats=True)\n",
            "    (2): ReLU(inplace=True)\n",
            "    (3): Conv2d(128, 128, kernel_size=(3, 3), stride=(1, 1), padding=(1, 1))\n",
            "    (4): BatchNorm2d(128, eps=1e-05, momentum=0.1, affine=True, track_running_stats=True)\n",
            "    (5): ReLU(inplace=True)\n",
            "  )\n",
            "  (down_conv_3): Sequential(\n",
            "    (0): Conv2d(128, 256, kernel_size=(3, 3), stride=(1, 1), padding=(1, 1))\n",
            "    (1): BatchNorm2d(256, eps=1e-05, momentum=0.1, affine=True, track_running_stats=True)\n",
            "    (2): ReLU(inplace=True)\n",
            "    (3): Conv2d(256, 256, kernel_size=(3, 3), stride=(1, 1), padding=(1, 1))\n",
            "    (4): BatchNorm2d(256, eps=1e-05, momentum=0.1, affine=True, track_running_stats=True)\n",
            "    (5): ReLU(inplace=True)\n",
            "  )\n",
            "  (down_conv_4): Sequential(\n",
            "    (0): Conv2d(256, 512, kernel_size=(3, 3), stride=(1, 1), padding=(1, 1))\n",
            "    (1): BatchNorm2d(512, eps=1e-05, momentum=0.1, affine=True, track_running_stats=True)\n",
            "    (2): ReLU(inplace=True)\n",
            "    (3): Conv2d(512, 512, kernel_size=(3, 3), stride=(1, 1), padding=(1, 1))\n",
            "    (4): BatchNorm2d(512, eps=1e-05, momentum=0.1, affine=True, track_running_stats=True)\n",
            "    (5): ReLU(inplace=True)\n",
            "  )\n",
            "  (down_conv_5): Sequential(\n",
            "    (0): Conv2d(512, 1024, kernel_size=(3, 3), stride=(1, 1), padding=(1, 1))\n",
            "    (1): BatchNorm2d(1024, eps=1e-05, momentum=0.1, affine=True, track_running_stats=True)\n",
            "    (2): ReLU(inplace=True)\n",
            "    (3): Conv2d(1024, 1024, kernel_size=(3, 3), stride=(1, 1), padding=(1, 1))\n",
            "    (4): BatchNorm2d(1024, eps=1e-05, momentum=0.1, affine=True, track_running_stats=True)\n",
            "    (5): ReLU(inplace=True)\n",
            "  )\n",
            "  (up_trans_1): ConvTranspose2d(1024, 512, kernel_size=(2, 2), stride=(2, 2))\n",
            "  (up_conv_1): Sequential(\n",
            "    (0): Conv2d(1024, 512, kernel_size=(3, 3), stride=(1, 1), padding=(1, 1))\n",
            "    (1): BatchNorm2d(512, eps=1e-05, momentum=0.1, affine=True, track_running_stats=True)\n",
            "    (2): ReLU(inplace=True)\n",
            "    (3): Conv2d(512, 512, kernel_size=(3, 3), stride=(1, 1), padding=(1, 1))\n",
            "    (4): BatchNorm2d(512, eps=1e-05, momentum=0.1, affine=True, track_running_stats=True)\n",
            "    (5): ReLU(inplace=True)\n",
            "  )\n",
            "  (up_trans_2): ConvTranspose2d(512, 256, kernel_size=(2, 2), stride=(2, 2))\n",
            "  (up_conv_2): Sequential(\n",
            "    (0): Conv2d(512, 256, kernel_size=(3, 3), stride=(1, 1), padding=(1, 1))\n",
            "    (1): BatchNorm2d(256, eps=1e-05, momentum=0.1, affine=True, track_running_stats=True)\n",
            "    (2): ReLU(inplace=True)\n",
            "    (3): Conv2d(256, 256, kernel_size=(3, 3), stride=(1, 1), padding=(1, 1))\n",
            "    (4): BatchNorm2d(256, eps=1e-05, momentum=0.1, affine=True, track_running_stats=True)\n",
            "    (5): ReLU(inplace=True)\n",
            "  )\n",
            "  (up_trans_3): ConvTranspose2d(256, 128, kernel_size=(2, 2), stride=(2, 2))\n",
            "  (up_conv_3): Sequential(\n",
            "    (0): Conv2d(256, 128, kernel_size=(3, 3), stride=(1, 1), padding=(1, 1))\n",
            "    (1): BatchNorm2d(128, eps=1e-05, momentum=0.1, affine=True, track_running_stats=True)\n",
            "    (2): ReLU(inplace=True)\n",
            "    (3): Conv2d(128, 128, kernel_size=(3, 3), stride=(1, 1), padding=(1, 1))\n",
            "    (4): BatchNorm2d(128, eps=1e-05, momentum=0.1, affine=True, track_running_stats=True)\n",
            "    (5): ReLU(inplace=True)\n",
            "  )\n",
            "  (up_trans_4): ConvTranspose2d(128, 64, kernel_size=(2, 2), stride=(2, 2))\n",
            "  (up_conv_4): Sequential(\n",
            "    (0): Conv2d(128, 64, kernel_size=(3, 3), stride=(1, 1), padding=(1, 1))\n",
            "    (1): BatchNorm2d(64, eps=1e-05, momentum=0.1, affine=True, track_running_stats=True)\n",
            "    (2): ReLU(inplace=True)\n",
            "    (3): Conv2d(64, 64, kernel_size=(3, 3), stride=(1, 1), padding=(1, 1))\n",
            "    (4): BatchNorm2d(64, eps=1e-05, momentum=0.1, affine=True, track_running_stats=True)\n",
            "    (5): ReLU(inplace=True)\n",
            "  )\n",
            "  (out): Conv2d(64, 1, kernel_size=(1, 1), stride=(1, 1))\n",
            ")\n"
          ]
        }
      ],
      "source": [
        "print(pred.size())\n",
        "print(model)"
      ]
    },
    {
      "cell_type": "code",
      "execution_count": 11,
      "metadata": {
        "id": "U6VsSvSMe-en"
      },
      "outputs": [],
      "source": [
        "#Dataset Preprocseeing\n",
        "class CarvanaDataset(Dataset):\n",
        "    def __init__(self,images,image_dir,mask_dir,transform=None,train=True):\n",
        "        self.image_dir = image_dir\n",
        "        self.mask_dir = mask_dir\n",
        "        self.transform = transform\n",
        "        self.isTrain = train\n",
        "        self.images = images\n",
        "    def __len__(self):\n",
        "        return len(self.images)\n",
        "    def __getitem__(self,index):\n",
        "        img_path = os.path.join(self.image_dir,self.images[index])\n",
        "        mask_path = os.path.join(self.mask_dir,self.images[index].replace(\".jpg\",\"_mask.gif\"))\n",
        "        image = np.array(Image.open(img_path).convert(\"RGB\"))\n",
        "        mask = np.array(Image.open(mask_path).convert(\"L\"),dtype=np.float32)\n",
        "        mask[mask == 255.0] = 1.0\n",
        "        \n",
        "        if self.transform is not None:\n",
        "            augmentations = self.transform(image=image,mask=mask)\n",
        "            image = augmentations['image']\n",
        "            mask = augmentations['mask']\n",
        "            \n",
        "        return {\"image\":image,\"mask\":mask}"
      ]
    },
    {
      "cell_type": "code",
      "execution_count": 12,
      "metadata": {
        "id": "LMDq-3lXfBLf"
      },
      "outputs": [],
      "source": [
        "images = os.listdir(TRAIN_IMG_DIR)\n",
        "masks = os.listdir(TRAIN_MASK_DIR)"
      ]
    },
    {
      "cell_type": "code",
      "execution_count": 13,
      "metadata": {
        "id": "DRaTN7vnfDnI",
        "colab": {
          "base_uri": "https://localhost:8080/",
          "height": 287
        },
        "outputId": "74acc22d-bb4a-4b46-e582-d27cfe44f798"
      },
      "outputs": [
        {
          "output_type": "stream",
          "name": "stdout",
          "text": [
            "(1280, 1918, 3)\n"
          ]
        },
        {
          "output_type": "display_data",
          "data": {
            "text/plain": [
              "<Figure size 432x288 with 1 Axes>"
            ],
            "image/png": "[encoded data removed]"
          },
          "metadata": {
            "needs_background": "light"
          }
        }
      ],
      "source": [
        "img = np.array(Image.open(TRAIN_IMG_DIR+\"/\"+images[0]).convert(\"RGB\"))\n",
        "plt.imshow(img,cmap=\"gray\")\n",
        "print(img.shape)  #Image is 3 channel"
      ]
    },
    {
      "cell_type": "code",
      "execution_count": 14,
      "metadata": {
        "id": "JIlFbxmAfF34",
        "colab": {
          "base_uri": "https://localhost:8080/",
          "height": 287
        },
        "outputId": "53b74ea7-0610-4af7-c16b-601860b7f3ba"
      },
      "outputs": [
        {
          "output_type": "stream",
          "name": "stdout",
          "text": [
            "(1280, 1918)\n"
          ]
        },
        {
          "output_type": "display_data",
          "data": {
            "text/plain": [
              "<Figure size 432x288 with 1 Axes>"
            ],
            "image/png": "[encoded data removed]"
          },
          "metadata": {
            "needs_background": "light"
          }
        }
      ],
      "source": [
        "msk = np.array(Image.open(TRAIN_MASK_DIR+\"/\"+images[0].replace(\".jpg\",\"_mask.gif\")).convert(\"L\"))\n",
        "plt.imshow(msk,cmap=\"gray\")\n",
        "print(msk.shape)  #Mask is 1 channel"
      ]
    },
    {
      "cell_type": "code",
      "execution_count": 15,
      "metadata": {
        "id": "uLROaXHHfLR5"
      },
      "outputs": [],
      "source": [
        "def fit(model,dataloader,data,optimizer,criterion):\n",
        "    print('-------------Training---------------')\n",
        "    model.train()\n",
        "    train_running_loss = 0.0\n",
        "    counter=0\n",
        "    \n",
        "    # num of batches\n",
        "    num_batches = int(len(data)/dataloader.batch_size)\n",
        "    for i,data in tqdm(enumerate(dataloader),total=num_batches):\n",
        "        counter+=1\n",
        "        image,mask = data[\"image\"].to(DEVICE),data[\"mask\"].to(DEVICE)\n",
        "        optimizer.zero_grad()\n",
        "        outputs = model(image)\n",
        "        outputs =outputs.squeeze(1)\n",
        "        loss = criterion(outputs,mask)\n",
        "        train_running_loss += loss.item()\n",
        "        loss.backward()\n",
        "        optimizer.step()\n",
        "    train_loss = train_running_loss/counter\n",
        "    return train_loss"
      ]
    },
    {
      "cell_type": "code",
      "execution_count": 16,
      "metadata": {
        "id": "6co5rdUtf0YW"
      },
      "outputs": [],
      "source": [
        "def validate(model,dataloader,data,criterion):\n",
        "    print(\"\\n--------Validating---------\\n\")\n",
        "    model.eval()\n",
        "    valid_running_loss = 0.0\n",
        "    counter = 0\n",
        "    # number of batches\n",
        "    num_batches = int(len(data)/dataloader.batch_size)\n",
        "    with torch.no_grad():\n",
        "        for i,data in tqdm(enumerate(dataloader),total=num_batches):\n",
        "            counter+=1\n",
        "            image,mask = data[\"image\"].to(DEVICE),data[\"mask\"].to(DEVICE)\n",
        "            outputs = model(image)\n",
        "            outputs =outputs.squeeze(1)\n",
        "            loss = criterion(outputs,mask)\n",
        "            valid_running_loss += loss.item()\n",
        "    valid_loss = valid_running_loss/counter\n",
        "    return valid_loss"
      ]
    },
    {
      "cell_type": "code",
      "execution_count": 17,
      "metadata": {
        "id": "VlCVlY7igE_b",
        "colab": {
          "base_uri": "https://localhost:8080/"
        },
        "outputId": "a4904da5-844d-4607-aff4-ed93e3f18cea"
      },
      "outputs": [
        {
          "output_type": "stream",
          "name": "stdout",
          "text": [
            "Looking in indexes: https://pypi.org/simple, https://us-python.pkg.dev/colab-wheels/public/simple/\n",
            "Collecting albumentations==0.4.6\n",
            "  Downloading albumentations-0.4.6.tar.gz (117 kB)\n",
            "\u001b[K     |████████████████████████████████| 117 kB 12.7 MB/s \n",
            "\u001b[?25hRequirement already satisfied: numpy>=1.11.1 in /usr/local/lib/python3.7/dist-packages (from albumentations==0.4.6) (1.21.6)\n",
            "Requirement already satisfied: scipy in /usr/local/lib/python3.7/dist-packages (from albumentations==0.4.6) (1.4.1)\n",
            "Collecting imgaug>=0.4.0\n",
            "  Downloading imgaug-0.4.0-py2.py3-none-any.whl (948 kB)\n",
            "\u001b[K     |████████████████████████████████| 948 kB 64.1 MB/s \n",
            "\u001b[?25hRequirement already satisfied: PyYAML in /usr/local/lib/python3.7/dist-packages (from albumentations==0.4.6) (3.13)\n",
            "Requirement already satisfied: opencv-python>=4.1.1 in /usr/local/lib/python3.7/dist-packages (from albumentations==0.4.6) (4.1.2.30)\n",
            "Requirement already satisfied: imageio in /usr/local/lib/python3.7/dist-packages (from imgaug>=0.4.0->albumentations==0.4.6) (2.4.1)\n",
            "Requirement already satisfied: scikit-image>=0.14.2 in /usr/local/lib/python3.7/dist-packages (from imgaug>=0.4.0->albumentations==0.4.6) (0.18.3)\n",
            "Requirement already satisfied: matplotlib in /usr/local/lib/python3.7/dist-packages (from imgaug>=0.4.0->albumentations==0.4.6) (3.2.2)\n",
            "Requirement already satisfied: Shapely in /usr/local/lib/python3.7/dist-packages (from imgaug>=0.4.0->albumentations==0.4.6) (1.8.2)\n",
            "Requirement already satisfied: Pillow in /usr/local/lib/python3.7/dist-packages (from imgaug>=0.4.0->albumentations==0.4.6) (7.1.2)\n",
            "Requirement already satisfied: six in /usr/local/lib/python3.7/dist-packages (from imgaug>=0.4.0->albumentations==0.4.6) (1.15.0)\n",
            "Requirement already satisfied: networkx>=2.0 in /usr/local/lib/python3.7/dist-packages (from scikit-image>=0.14.2->imgaug>=0.4.0->albumentations==0.4.6) (2.6.3)\n",
            "Requirement already satisfied: tifffile>=2019.7.26 in /usr/local/lib/python3.7/dist-packages (from scikit-image>=0.14.2->imgaug>=0.4.0->albumentations==0.4.6) (2021.11.2)\n",
            "Requirement already satisfied: PyWavelets>=1.1.1 in /usr/local/lib/python3.7/dist-packages (from scikit-image>=0.14.2->imgaug>=0.4.0->albumentations==0.4.6) (1.3.0)\n",
            "Requirement already satisfied: cycler>=0.10 in /usr/local/lib/python3.7/dist-packages (from matplotlib->imgaug>=0.4.0->albumentations==0.4.6) (0.11.0)\n",
            "Requirement already satisfied: pyparsing!=2.0.4,!=2.1.2,!=2.1.6,>=2.0.1 in /usr/local/lib/python3.7/dist-packages (from matplotlib->imgaug>=0.4.0->albumentations==0.4.6) (3.0.9)\n",
            "Requirement already satisfied: kiwisolver>=1.0.1 in /usr/local/lib/python3.7/dist-packages (from matplotlib->imgaug>=0.4.0->albumentations==0.4.6) (1.4.2)\n",
            "Requirement already satisfied: python-dateutil>=2.1 in /usr/local/lib/python3.7/dist-packages (from matplotlib->imgaug>=0.4.0->albumentations==0.4.6) (2.8.2)\n",
            "Requirement already satisfied: typing-extensions in /usr/local/lib/python3.7/dist-packages (from kiwisolver>=1.0.1->matplotlib->imgaug>=0.4.0->albumentations==0.4.6) (4.2.0)\n",
            "Building wheels for collected packages: albumentations\n",
            "  Building wheel for albumentations (setup.py) ... \u001b[?25l\u001b[?25hdone\n",
            "  Created wheel for albumentations: filename=albumentations-0.4.6-py3-none-any.whl size=65174 sha256=f2c26506c16f3a21d8da253491da0ea1d4eacebcd412487b20fb1a26ad5bde3b\n",
            "  Stored in directory: /root/.cache/pip/wheels/cf/34/0f/cb2a5f93561a181a4bcc84847ad6aaceea8b5a3127469616cc\n",
            "Successfully built albumentations\n",
            "Installing collected packages: imgaug, albumentations\n",
            "  Attempting uninstall: imgaug\n",
            "    Found existing installation: imgaug 0.2.9\n",
            "    Uninstalling imgaug-0.2.9:\n",
            "      Successfully uninstalled imgaug-0.2.9\n",
            "  Attempting uninstall: albumentations\n",
            "    Found existing installation: albumentations 0.1.12\n",
            "    Uninstalling albumentations-0.1.12:\n",
            "      Successfully uninstalled albumentations-0.1.12\n",
            "Successfully installed albumentations-0.4.6 imgaug-0.4.0\n"
          ]
        }
      ],
      "source": [
        "!pip install albumentations==0.4.6"
      ]
    },
    {
      "cell_type": "code",
      "execution_count": 18,
      "metadata": {
        "id": "5uRJ7BH3f2kf"
      },
      "outputs": [],
      "source": [
        "import albumentations as A\n",
        "from albumentations.pytorch import ToTensorV2 "
      ]
    },
    {
      "cell_type": "code",
      "execution_count": 19,
      "metadata": {
        "id": "tX8OAszMf5Pg"
      },
      "outputs": [],
      "source": [
        "train_transform = A.Compose([\n",
        "    A.Resize(IMAGE_HEIGHT,IMAGE_WIDTH),\n",
        "    A.Rotate(limit=35,p=1.0),\n",
        "    A.HorizontalFlip(p=0.5),\n",
        "    A.VerticalFlip(p=0.1),\n",
        "    A.Normalize(\n",
        "        mean=[0.0,0.0,0.0],\n",
        "        std = [1.0,1.0,1.0],\n",
        "        max_pixel_value=255.0\n",
        "    ),\n",
        "    ToTensorV2()  \n",
        "])\n",
        "\n",
        "validation_transform = A.Compose([\n",
        "    A.Resize(IMAGE_HEIGHT,IMAGE_WIDTH),\n",
        "    A.Normalize(\n",
        "        mean = [0.0,0.0,0.0],\n",
        "        std = [1.0,1.0,1.0],\n",
        "        max_pixel_value=255.0,\n",
        "    ),\n",
        "    ToTensorV2()\n",
        "])"
      ]
    },
    {
      "cell_type": "code",
      "execution_count": 20,
      "metadata": {
        "id": "EwZpfIKyjp6b"
      },
      "outputs": [],
      "source": [
        "def train_test_split(images,splitSize):\n",
        "    imageLen = len(images)\n",
        "    val_len = int(splitSize*imageLen)\n",
        "    train_len = imageLen - val_len\n",
        "    train_images,val_images = images[:train_len],images[train_len:]\n",
        "    return train_images,val_images"
      ]
    },
    {
      "cell_type": "code",
      "execution_count": 21,
      "metadata": {
        "id": "QGa7Nk9qj1E4",
        "colab": {
          "base_uri": "https://localhost:8080/"
        },
        "outputId": "46ec1678-e56b-4e19-8bd2-969fe1c23537"
      },
      "outputs": [
        {
          "output_type": "stream",
          "name": "stdout",
          "text": [
            "5088\n",
            "3562\n",
            "1023\n",
            "503\n"
          ]
        }
      ],
      "source": [
        "train_images_path,val_images_path = train_test_split(images,SPLIT)\n",
        "val_images_path, test_images_path = train_test_split(val_images_path,0.33)\n",
        "\n",
        "print(len(images))\n",
        "print(len(train_images_path))\n",
        "print(len(val_images_path))\n",
        "print(len(test_images_path))\n",
        "\n",
        "train_data = CarvanaDataset(train_images_path,TRAIN_IMG_DIR,TRAIN_MASK_DIR,train_transform,True)\n",
        "valid_data = CarvanaDataset(val_images_path,TRAIN_IMG_DIR,TRAIN_MASK_DIR,validation_transform,True)\n",
        "test_data = CarvanaDataset(test_images_path,TRAIN_IMG_DIR,TRAIN_MASK_DIR,validation_transform,True)\n",
        "\n",
        "\n",
        "train_dataloader = DataLoader(train_data,batch_size=BATCH_SIZE,shuffle=True)\n",
        "valid_dataloader = DataLoader(valid_data,batch_size=BATCH_SIZE,shuffle=False)\n",
        "test_dataloader = DataLoader(test_data,batch_size=BATCH_SIZE,shuffle=False)"
      ]
    },
    {
      "cell_type": "code",
      "execution_count": 22,
      "metadata": {
        "id": "zDNR3AN948Xo"
      },
      "outputs": [],
      "source": [
        "class BCELoss(nn.Module):\n",
        "  def __init__(self, weight=None, size_average=True):\n",
        "        super(BCELoss, self).__init__()\n",
        "\n",
        "  def forward(self, inputs, targets, smooth=1):\n",
        "\n",
        "    #comment out if your model contains a sigmoid or equivalent activation layer\n",
        "        inputs = F.sigmoid(inputs)       \n",
        "        \n",
        "        #flatten label and prediction tensors\n",
        "        inputs = inputs.view(-1)\n",
        "        targets = targets.view(-1)\n",
        "\n",
        "        BCE = F.binary_cross_entropy(inputs, targets, reduction='mean')\n",
        "\n",
        "        return BCE\n",
        "\n",
        "class DiceLoss(nn.Module):\n",
        "    def __init__(self, weight=None, size_average=True):\n",
        "        super(DiceLoss, self).__init__()\n",
        " \n",
        "    def forward(self, inputs, targets, smooth=1):        \n",
        "        \n",
        "        inputs = F.sigmoid(inputs)       \n",
        "        \n",
        "        inputs = inputs.view(-1)\n",
        "        targets = targets.view(-1)\n",
        "        \n",
        "        intersection = (inputs * targets).sum()                            \n",
        "        dice = (2.*intersection + smooth)/(inputs.sum() + targets.sum() + smooth)  \n",
        "        loss = 1 - dice\n",
        "        \n",
        "        return loss\n",
        "\n",
        "class IoULoss(nn.Module):\n",
        "    def __init__(self, weight=None, size_average=True):\n",
        "        super(IoULoss, self).__init__()\n",
        "\n",
        "    def forward(self, inputs, targets, smooth=1):\n",
        "        \n",
        "        #comment out if your model contains a sigmoid or equivalent activation layer\n",
        "        inputs = F.sigmoid(inputs)       \n",
        "        \n",
        "        #flatten label and prediction tensors\n",
        "        inputs = inputs.view(-1)\n",
        "        targets = targets.view(-1)\n",
        "\n",
        "\n",
        "        #intersection is equivalent to True Positive count\n",
        "        #union is the mutually inclusive area of all labels & predictions \n",
        "        intersection = (inputs * targets).sum()\n",
        "        total = (inputs + targets).sum()\n",
        "        union = total - intersection \n",
        "        \n",
        "        IoU = (intersection + smooth)/(union + smooth)\n",
        "                \n",
        "        return 1 - IoU\n",
        "\n",
        "#PyTorch\n",
        "ALPHA = 0.8\n",
        "GAMMA = 2\n",
        "\n",
        "class FocalLoss(nn.Module):\n",
        "    def __init__(self, weight=None, size_average=True):\n",
        "        super(FocalLoss, self).__init__()\n",
        "\n",
        "    def forward(self, inputs, targets, alpha=ALPHA, gamma=GAMMA, smooth=1):\n",
        "        \n",
        "        #comment out if your model contains a sigmoid or equivalent activation layer\n",
        "        inputs = F.sigmoid(inputs)       \n",
        "        \n",
        "        #flatten label and prediction tensors\n",
        "        inputs = inputs.view(-1)\n",
        "        targets = targets.view(-1)\n",
        "        \n",
        "        #first compute binary cross-entropy \n",
        "        BCE = F.binary_cross_entropy(inputs, targets, reduction='mean')\n",
        "        BCE_EXP = torch.exp(-BCE)\n",
        "        focal_loss = alpha * (1-BCE_EXP)**gamma * BCE\n",
        "                       \n",
        "        return focal_loss\n",
        "\n",
        "#PyTorch\n",
        "class DiceBCELoss(nn.Module):\n",
        "    def __init__(self, weight=None, size_average=True):\n",
        "        super(DiceBCELoss, self).__init__()\n",
        "\n",
        "    def forward(self, inputs, targets, smooth=1):\n",
        "        \n",
        "        #comment out if your model contains a sigmoid or equivalent activation layer\n",
        "        inputs = F.sigmoid(inputs)       \n",
        "        \n",
        "        #flatten label and prediction tensors\n",
        "        inputs = inputs.view(-1)\n",
        "        targets = targets.view(-1)\n",
        "        \n",
        "        intersection = (inputs * targets).sum()                            \n",
        "        dice_loss = 1 - (2.*intersection + smooth)/(inputs.sum() + targets.sum() + smooth)  \n",
        "        BCE = F.binary_cross_entropy(inputs, targets, reduction='mean')\n",
        "        Dice_BCE = BCE + dice_loss\n",
        "        \n",
        "        return Dice_BCE"
      ]
    },
    {
      "cell_type": "code",
      "execution_count": 23,
      "metadata": {
        "id": "UrjbTjqd0XbE"
      },
      "outputs": [],
      "source": [
        "# #Different optimizers\n",
        "optimizer_1 = optim.Adam(model.parameters(),lr=LEARNING_RATE)\n",
        "optimizer_2 = optim.Adagrad(model.parameters(), lr=LEARNING_RATE)\n",
        "optimizer_3 = optim.SGD(model.parameters(),lr=LEARNING_RATE)\n",
        "\n",
        "SGD_scheduler = optim.lr_scheduler.CosineAnnealingLR(optimizer_3, T_max = 2) #have to change T_max"
      ]
    },
    {
      "cell_type": "code",
      "execution_count": 24,
      "metadata": {
        "id": "ujbMOe2X2pti"
      },
      "outputs": [],
      "source": [
        "#Different Loss functions\n",
        "criterion_1 = BCELoss()\n",
        "criterion_2 = DiceLoss()\n",
        "criterion_3 = IoULoss()\n",
        "crterion_4 = FocalLoss()\n",
        "criterion_5 = DiceBCELoss()"
      ]
    },
    {
      "cell_type": "markdown",
      "source": [
        "Adam-BCE"
      ],
      "metadata": {
        "id": "lNzKMaLHGY5h"
      }
    },
    {
      "cell_type": "code",
      "execution_count": 25,
      "metadata": {
        "id": "rSTjoHFRlGmf"
      },
      "outputs": [],
      "source": [
        "# train_loss = []\n",
        "# val_loss =[]\n",
        "# model = UNet().to(DEVICE)\n",
        "# EPOCHS = 5\n",
        "\n",
        "# optimizer_1 = optim.Adam(model.parameters(),lr=LEARNING_RATE)\n",
        "# criterion_1 = BCELoss()\n",
        "\n",
        "# for epoch in range(EPOCHS):\n",
        "#     print(f\"Epoch {epoch+1} of {EPOCHS}\")\n",
        "#     train_epoch_loss = fit(model, train_dataloader, train_data,optimizer_1,criterion_1)\n",
        "#     val_epoch_loss = validate(model, valid_dataloader, valid_data, criterion_1)\n",
        "#     train_loss.append(train_epoch_loss)\n",
        "#     val_loss.append(val_epoch_loss)\n",
        "#     print(f\"Train Loss: {train_epoch_loss:.4f}\")\n",
        "#     print(f'Val Loss: {val_epoch_loss:.4f}')\n",
        "\n",
        "#     torch.save({\n",
        "#     'epoch': epoch,\n",
        "#     'model_state_dict': model.state_dict(),\n",
        "#     'optimizer_state_dict': optimizer_1.state_dict(),\n",
        "#     'loss': criterion_1,\n",
        "# }, \"/content/gdrive/MyDrive/Colab Notebooks/UNet/seg_BCE_Adam_model_.pth\"+str(epoch))\n",
        "\n"
      ]
    },
    {
      "cell_type": "code",
      "execution_count": 26,
      "metadata": {
        "id": "JIsXUCy5lk5V"
      },
      "outputs": [],
      "source": [
        "# # loss plots\n",
        "# plt.figure(figsize=(10, 7))\n",
        "# plt.plot(train_loss, color=\"orange\", label='train loss')\n",
        "# plt.plot(val_loss, color=\"red\", label='validation loss')\n",
        "# plt.xlabel(\"Epochs\")\n",
        "# plt.ylabel(\"Loss\")\n",
        "# plt.legend()\n",
        "# plt.savefig(f\"/content/gdrive/MyDrive/Colab Notebooks/UNet/loss(BCE_Adam).png\")\n",
        "# plt.show()"
      ]
    },
    {
      "cell_type": "markdown",
      "source": [
        "Adam-Dice"
      ],
      "metadata": {
        "id": "0-5_Qx51Gppv"
      }
    },
    {
      "cell_type": "code",
      "source": [
        "# train_loss = []\n",
        "# val_loss =[]\n",
        "# model = UNet().to(DEVICE)\n",
        "# EPOCHS = 5\n",
        "\n",
        "# optimizer = optim.Adam(model.parameters(),lr=LEARNING_RATE)\n",
        "# criterion = DiceLoss()\n",
        "\n",
        "# for epoch in range(3,EPOCHS):\n",
        "#     print(f\"Epoch {epoch+1} of {EPOCHS}\")\n",
        "#     train_epoch_loss = fit(model, train_dataloader, train_data,optimizer,criterion)\n",
        "#     val_epoch_loss = validate(model, valid_dataloader, valid_data, criterion)\n",
        "#     train_loss.append(train_epoch_loss)\n",
        "#     val_loss.append(val_epoch_loss)\n",
        "#     print(f\"Train Loss: {train_epoch_loss:.4f}\")\n",
        "#     print(f'Val Loss: {val_epoch_loss:.4f}')\n",
        "\n",
        "#     torch.save({\n",
        "#     'epoch': epoch,\n",
        "#     'model_state_dict': model.state_dict(),\n",
        "#     'optimizer_state_dict': optimizer.state_dict(),\n",
        "#     'loss': criterion,\n",
        "# }, \"/content/gdrive/MyDrive/Colab Notebooks/UNet/seg_Dice_Adam_model_\"+str(epoch)+'.pth')\n",
        "\n"
      ],
      "metadata": {
        "colab": {
          "base_uri": "https://localhost:8080/"
        },
        "id": "EqTHUqcVLPzU",
        "outputId": "2bdc4298-9401-44c2-ee11-8212d945ed8d"
      },
      "execution_count": null,
      "outputs": [
        {
          "metadata": {
            "tags": null
          },
          "name": "stdout",
          "output_type": "stream",
          "text": [
            "Epoch 4 of 5\n",
            "-------------Training---------------\n"
          ]
        },
        {
          "output_type": "stream",
          "name": "stderr",
          "text": [
            "  0%|          | 0/890 [00:00<?, ?it/s]/usr/local/lib/python3.7/dist-packages/torch/nn/functional.py:1944: UserWarning: nn.functional.sigmoid is deprecated. Use torch.sigmoid instead.\n",
            "  warnings.warn(\"nn.functional.sigmoid is deprecated. Use torch.sigmoid instead.\")\n",
            "891it [49:21,  3.32s/it]\n"
          ]
        },
        {
          "output_type": "stream",
          "name": "stdout",
          "text": [
            "\n",
            "--------Validating---------\n",
            "\n"
          ]
        },
        {
          "output_type": "stream",
          "name": "stderr",
          "text": [
            "256it [11:01,  2.58s/it]\n"
          ]
        },
        {
          "output_type": "stream",
          "name": "stdout",
          "text": [
            "Train Loss: 0.1907\n",
            "Val Loss: 0.0842\n",
            "Epoch 5 of 5\n",
            "-------------Training---------------\n"
          ]
        },
        {
          "output_type": "stream",
          "name": "stderr",
          "text": [
            "891it [23:21,  1.57s/it]\n"
          ]
        },
        {
          "output_type": "stream",
          "name": "stdout",
          "text": [
            "\n",
            "--------Validating---------\n",
            "\n"
          ]
        },
        {
          "output_type": "stream",
          "name": "stderr",
          "text": [
            "256it [03:23,  1.26it/s]\n"
          ]
        },
        {
          "output_type": "stream",
          "name": "stdout",
          "text": [
            "Train Loss: 0.0560\n",
            "Val Loss: 0.0322\n"
          ]
        }
      ]
    },
    {
      "cell_type": "code",
      "source": [
        "# # loss plots\n",
        "# plt.figure(figsize=(10, 7))\n",
        "# plt.plot(train_loss, color=\"orange\", label='train loss')\n",
        "# plt.plot(val_loss, color=\"red\", label='validation loss')\n",
        "# plt.xlabel(\"Epochs\")\n",
        "# plt.ylabel(\"Loss\")\n",
        "# plt.legend()\n",
        "# plt.savefig(f\"/content/gdrive/MyDrive/Colab Notebooks/UNet/loss(Dice_Adam).png\")\n",
        "# plt.show()"
      ],
      "metadata": {
        "id": "-72s02RoQ3mI",
        "colab": {
          "base_uri": "https://localhost:8080/",
          "height": 442
        },
        "outputId": "48af8812-2250-4d61-cfba-bfcbd92f77f9"
      },
      "execution_count": null,
      "outputs": [
        {
          "output_type": "display_data",
          "data": {
            "text/plain": [
              "<Figure size 720x504 with 1 Axes>"
            ],
            "image/png": "[encoded data removed]"
          },
          "metadata": {
            "needs_background": "light"
          }
        }
      ]
    },
    {
      "cell_type": "markdown",
      "source": [
        "Adam-IOU"
      ],
      "metadata": {
        "id": "n2tlzxfCGs-K"
      }
    },
    {
      "cell_type": "code",
      "source": [
        "train_loss = []\n",
        "val_loss =[]\n",
        "model = UNet().to(DEVICE)\n",
        "EPOCHS = 5\n",
        "\n",
        "optimizer = optim.Adam(model.parameters(),lr=LEARNING_RATE)\n",
        "criterion = IoULoss()\n",
        "\n",
        "for epoch in range(1,EPOCHS):\n",
        "    print(f\"Epoch {epoch+1} of {EPOCHS}\")\n",
        "    train_epoch_loss = fit(model, train_dataloader, train_data,optimizer,criterion)\n",
        "    val_epoch_loss = validate(model, valid_dataloader, valid_data, criterion)\n",
        "    train_loss.append(train_epoch_loss)\n",
        "    val_loss.append(val_epoch_loss)\n",
        "    print(f\"Train Loss: {train_epoch_loss:.4f}\")\n",
        "    print(f'Val Loss: {val_epoch_loss:.4f}')\n",
        "\n",
        "    torch.save({\n",
        "    'epoch': epoch,\n",
        "    'model_state_dict': model.state_dict(),\n",
        "    'optimizer_state_dict': optimizer.state_dict(),\n",
        "    'loss': criterion,\n",
        "}, \"/content/gdrive/MyDrive/Colab Notebooks/UNet/seg_IOU_Adam_model_.pth\"+str(epoch))\n",
        "\n"
      ],
      "metadata": {
        "id": "zmZ8-4qXmQKj",
        "colab": {
          "base_uri": "https://localhost:8080/"
        },
        "outputId": "669bd1f7-ea04-47e8-b443-3cb24e0359bc"
      },
      "execution_count": null,
      "outputs": [
        {
          "output_type": "stream",
          "name": "stdout",
          "text": [
            "Epoch 2 of 5\n",
            "-------------Training---------------\n"
          ]
        },
        {
          "output_type": "stream",
          "name": "stderr",
          "text": [
            "\r  0%|          | 0/890 [00:00<?, ?it/s]/usr/local/lib/python3.7/dist-packages/torch/nn/functional.py:1944: UserWarning: nn.functional.sigmoid is deprecated. Use torch.sigmoid instead.\n",
            "  warnings.warn(\"nn.functional.sigmoid is deprecated. Use torch.sigmoid instead.\")\n",
            "891it [1:07:39,  4.56s/it]\n"
          ]
        },
        {
          "output_type": "stream",
          "name": "stdout",
          "text": [
            "\n",
            "--------Validating---------\n",
            "\n"
          ]
        },
        {
          "output_type": "stream",
          "name": "stderr",
          "text": [
            "256it [16:55,  3.96s/it]\n"
          ]
        },
        {
          "output_type": "stream",
          "name": "stdout",
          "text": [
            "Train Loss: 0.2973\n",
            "Val Loss: 0.1515\n",
            "Epoch 3 of 5\n",
            "-------------Training---------------\n"
          ]
        },
        {
          "output_type": "stream",
          "name": "stderr",
          "text": [
            "891it [23:23,  1.57s/it]\n"
          ]
        },
        {
          "output_type": "stream",
          "name": "stdout",
          "text": [
            "\n",
            "--------Validating---------\n",
            "\n"
          ]
        },
        {
          "output_type": "stream",
          "name": "stderr",
          "text": [
            "256it [03:19,  1.28it/s]\n"
          ]
        },
        {
          "output_type": "stream",
          "name": "stdout",
          "text": [
            "Train Loss: 0.0827\n",
            "Val Loss: 0.0522\n",
            "Epoch 4 of 5\n",
            "-------------Training---------------\n"
          ]
        },
        {
          "output_type": "stream",
          "name": "stderr",
          "text": [
            "  5%|▍         | 43/890 [01:08<22:25,  1.59s/it]"
          ]
        }
      ]
    },
    {
      "cell_type": "code",
      "source": [
        "# loss plots\n",
        "plt.figure(figsize=(10, 7))\n",
        "plt.plot(train_loss, color=\"orange\", label='train loss')\n",
        "plt.plot(val_loss, color=\"red\", label='validation loss')\n",
        "plt.xlabel(\"Epochs\")\n",
        "plt.ylabel(\"Loss\")\n",
        "plt.legend()\n",
        "plt.savefig(f\"/content/gdrive/MyDrive/Colab Notebooks/UNet/loss(IOU_Adam).png\")\n",
        "plt.show()"
      ],
      "metadata": {
        "id": "gjMGBKXgmKek"
      },
      "execution_count": null,
      "outputs": []
    },
    {
      "cell_type": "markdown",
      "source": [
        "Adam-DiceBCE"
      ],
      "metadata": {
        "id": "DvN_iVPoGzfx"
      }
    },
    {
      "cell_type": "code",
      "source": [
        "\n",
        "train_loss = []\n",
        "val_loss =[]\n",
        "model = UNet().to(DEVICE)\n",
        "EPOCHS = 5\n",
        "\n",
        "optimizer = optim.Adam(model.parameters(),lr=LEARNING_RATE)\n",
        "criterion = DiceBCELoss()\n",
        "\n",
        "for epoch in range(EPOCHS):\n",
        "    print(f\"Epoch {epoch+1} of {EPOCHS}\")\n",
        "    train_epoch_loss = fit(model, train_dataloader, train_data,optimizer,criterion)\n",
        "    val_epoch_loss = validate(model, valid_dataloader, valid_data, criterion)\n",
        "    train_loss.append(train_epoch_loss)\n",
        "    val_loss.append(val_epoch_loss)\n",
        "    print(f\"Train Loss: {train_epoch_loss:.4f}\")\n",
        "    print(f'Val Loss: {val_epoch_loss:.4f}')\n",
        "\n",
        "    torch.save({\n",
        "    'epoch': epoch,\n",
        "    'model_state_dict': model.state_dict(),\n",
        "    'optimizer_state_dict': optimizer.state_dict(),\n",
        "    'loss': criterion,\n",
        "}, \"/content/gdrive/MyDrive/Colab Notebooks/UNet/seg_DiceBCE_Adam_model_.pth\"+str(epoch))\n"
      ],
      "metadata": {
        "id": "kTKDjVRWmrR2"
      },
      "execution_count": null,
      "outputs": []
    },
    {
      "cell_type": "code",
      "source": [
        "# loss plots\n",
        "plt.figure(figsize=(10, 7))\n",
        "plt.plot(train_loss, color=\"orange\", label='train loss')\n",
        "plt.plot(val_loss, color=\"red\", label='validation loss')\n",
        "plt.xlabel(\"Epochs\")\n",
        "plt.ylabel(\"Loss\")\n",
        "plt.legend()\n",
        "plt.savefig(f\"/content/gdrive/MyDrive/Colab Notebooks/UNet/loss(DiceBCE_Adam).png\")\n",
        "plt.show()"
      ],
      "metadata": {
        "id": "cUkEc7Q0mtAn"
      },
      "execution_count": null,
      "outputs": []
    },
    {
      "cell_type": "code",
      "execution_count": null,
      "metadata": {
        "id": "Efi-PgFvpfLE"
      },
      "outputs": [],
      "source": [
        "data = train_data.__getitem__(100)\n",
        "plt.imshow(data['mask'],cmap=\"gray\")\n",
        "print(train_data.__getitem__(0)['mask'].shape)"
      ]
    },
    {
      "cell_type": "code",
      "execution_count": null,
      "metadata": {
        "id": "Hxb9Cb5Vpg56"
      },
      "outputs": [],
      "source": [
        "# for Testing on Single datapoint after training\n",
        "# plt.imshow(np.transpose(np.array(data['image']),(1,2,0)),cmap=\"gray\")\n",
        "print(data['image'].shape)\n",
        "img = data['image'].unsqueeze(0).to(device=\"cuda\")\n",
        "# model = UNet()\n",
        "output = model(img)\n",
        "output = torch.squeeze(output)\n",
        "output[output>0.0] = 1.0\n",
        "output[output<=0.0]=0\n",
        "print(torch.max(output))\n",
        "print(output.shape)\n",
        "disp = output.detach().cpu()\n",
        "plt.imshow(disp,cmap=\"gray\")"
      ]
    },
    {
      "cell_type": "code",
      "execution_count": null,
      "metadata": {
        "id": "lQc5wktbpkhU"
      },
      "outputs": [],
      "source": [
        ""
      ]
    },
    {
      "cell_type": "markdown",
      "metadata": {
        "id": "eOKorOarfGQ6"
      },
      "source": [
        "References:\n",
        "\n",
        "https://www.kaggle.com/code/bigironsphere/loss-function-library-keras-pytorch/notebook#Dice-Loss\n",
        "\n",
        "https://www.kaggle.com/code/nandwalritik/u-net-pytorch/notebook\n",
        "\n",
        "https://pyimagesearch.com/2021/11/08/u-net-training-image-segmentation-models-in-pytorch/"
      ]
    },
    {
      "cell_type": "code",
      "execution_count": null,
      "metadata": {
        "id": "_NxHl1ALfNi9"
      },
      "outputs": [],
      "source": [
        ""
      ]
    }
  ],
  "metadata": {
    "accelerator": "GPU",
    "colab": {
      "collapsed_sections": [],
      "name": "seg.ipynb",
      "provenance": []
    },
    "kernelspec": {
      "display_name": "Python 3",
      "name": "python3"
    },
    "language_info": {
      "name": "python"
    }
  },
  "nbformat": 4,
  "nbformat_minor": 0
}